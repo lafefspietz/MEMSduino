{
 "cells": [
  {
   "cell_type": "code",
   "execution_count": 9,
   "id": "02842eb4",
   "metadata": {},
   "outputs": [],
   "source": [
    "import json\n",
    "import serial\n",
    "SP9T_serial = serial.Serial('COM7', 9600)  # open serial port"
   ]
  },
  {
   "cell_type": "code",
   "execution_count": null,
   "id": "c81ffac8-7c4d-4e94-b09a-734e94de155f",
   "metadata": {},
   "outputs": [],
   "source": [
    "import numpy as np\n",
    "import json\n",
    "import time\n",
    "import serial\n",
    "time.sleep(0.01)\n",
    "while True:\n",
    "    time.sleep(0.01)\n",
    "    try:\n",
    "        file = open('control_data.txt', \"r\")\n",
    "        control_data_raw = file.read()\n",
    "        file.close()  \n",
    "        control_data = json.loads(control_data_raw)\n",
    "        switch_state = control_data['switch_state']\n",
    "        SP9T_serial.write(bytes(str(switch_state), encoding='utf-8'))\n",
    "    except:\n",
    "        pass"
   ]
  },
  {
   "cell_type": "code",
   "execution_count": null,
   "id": "f4fb8a79-42c9-4012-931d-48e2c359f604",
   "metadata": {},
   "outputs": [],
   "source": [
    "SP9T_serial.close()"
   ]
  },
  {
   "cell_type": "code",
   "execution_count": 1,
   "id": "0a447748-1303-4aaf-b0a9-78dc4b5d4a85",
   "metadata": {},
   "outputs": [],
   "source": [
    "import time"
   ]
  },
  {
   "cell_type": "code",
   "execution_count": 7,
   "id": "e6794726-a3f4-492b-b9b1-0f2de594d869",
   "metadata": {},
   "outputs": [
    {
     "name": "stdout",
     "output_type": "stream",
     "text": [
      "COM1: Communications Port (COM1) [ACPI\\PNP0501\\SIOBUAR2]\n",
      "COM3: Intel(R) Active Management Technology - SOL (COM3) [PCI\\VEN_8086&DEV_7AEB&SUBSYS_0A9F1028&REV_11\\3&11583659&3&B3]\n",
      "COM7: Arduino Uno (COM7) [USB VID:PID=2341:0043 SER=34234313931351406170 LOCATION=1-1]\n"
     ]
    }
   ],
   "source": [
    "import serial.tools.list_ports\n",
    "ports = serial.tools.list_ports.comports()\n",
    "\n",
    "for port, desc, hwid in sorted(ports):\n",
    "       print(\"{}: {} [{}]\".format(port, desc, hwid))"
   ]
  },
  {
   "cell_type": "code",
   "execution_count": null,
   "id": "3309883a-4667-46f5-b809-9e119aea6ecc",
   "metadata": {},
   "outputs": [],
   "source": []
  }
 ],
 "metadata": {
  "kernelspec": {
   "display_name": "Python [conda env:base] *",
   "language": "python",
   "name": "conda-base-py"
  },
  "language_info": {
   "codemirror_mode": {
    "name": "ipython",
    "version": 3
   },
   "file_extension": ".py",
   "mimetype": "text/x-python",
   "name": "python",
   "nbconvert_exporter": "python",
   "pygments_lexer": "ipython3",
   "version": "3.12.7"
  }
 },
 "nbformat": 4,
 "nbformat_minor": 5
}
