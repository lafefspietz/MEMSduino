{
 "cells": [
  {
   "cell_type": "code",
   "execution_count": 1,
   "id": "d84ba4ed",
   "metadata": {},
   "outputs": [],
   "source": [
    "import time\n",
    "import serial"
   ]
  },
  {
   "cell_type": "code",
   "execution_count": 2,
   "id": "028fc81e",
   "metadata": {},
   "outputs": [
    {
     "name": "stdout",
     "output_type": "stream",
     "text": [
      "Collecting package metadata (current_repodata.json): ...working... done\n",
      "Solving environment: ...working... done\n",
      "\n",
      "## Package Plan ##\n",
      "\n",
      "  environment location: C:\\Users\\lfs\\AppData\\Local\\anaconda3\n",
      "\n",
      "  added / updated specs:\n",
      "    - pyserial\n",
      "\n",
      "\n",
      "The following packages will be downloaded:\n",
      "\n",
      "    package                    |            build\n",
      "    ---------------------------|-----------------\n",
      "    ca-certificates-2024.7.2   |       haa95532_0         128 KB\n",
      "    certifi-2024.7.4           |  py311haa95532_0         160 KB\n",
      "    pyserial-3.5               |  py311haa95532_0         211 KB\n",
      "    ------------------------------------------------------------\n",
      "                                           Total:         499 KB\n",
      "\n",
      "The following NEW packages will be INSTALLED:\n",
      "\n",
      "  pyserial           pkgs/main/win-64::pyserial-3.5-py311haa95532_0 \n",
      "\n",
      "The following packages will be UPDATED:\n",
      "\n",
      "  ca-certificates                     2023.08.22-haa95532_0 --> 2024.7.2-haa95532_0 \n",
      "  certifi                         2023.7.22-py311haa95532_0 --> 2024.7.4-py311haa95532_0 \n",
      "\n",
      "\n",
      "\n",
      "Downloading and Extracting Packages\n",
      "\n",
      "certifi-2024.7.4     | 160 KB    |            |   0% \n",
      "\n",
      "pyserial-3.5         | 211 KB    |            |   0% \u001b[A\n",
      "\n",
      "\n",
      "ca-certificates-2024 | 128 KB    |            |   0% \u001b[A\u001b[A\n",
      "certifi-2024.7.4     | 160 KB    | 9          |  10% \n",
      "\n",
      "\n",
      "ca-certificates-2024 | 128 KB    | #2         |  13% \u001b[A\u001b[A\n",
      "certifi-2024.7.4     | 160 KB    | ########## | 100% \n",
      "\n",
      "\n",
      "ca-certificates-2024 | 128 KB    | ########## | 100% \u001b[A\u001b[A\n",
      "\n",
      "pyserial-3.5         | 211 KB    | 7          |   8% \u001b[A\n",
      "\n",
      "pyserial-3.5         | 211 KB    | ########## | 100% \u001b[A\n",
      "                                                     \n",
      "\n",
      "\n",
      "                                                     \u001b[A\n",
      "\n",
      "\n",
      "                                                     \u001b[A\u001b[A\n",
      "\n",
      "Preparing transaction: ...working... done\n",
      "Verifying transaction: ...working... done\n",
      "Executing transaction: ...working... done\n",
      "\n",
      "Note: you may need to restart the kernel to use updated packages.\n"
     ]
    },
    {
     "name": "stderr",
     "output_type": "stream",
     "text": [
      "\n",
      "\n",
      "==> WARNING: A newer version of conda exists. <==\n",
      "  current version: 23.7.4\n",
      "  latest version: 24.7.1\n",
      "\n",
      "Please update conda by running\n",
      "\n",
      "    $ conda update -n base -c defaults conda\n",
      "\n",
      "Or to minimize the number of packages updated during conda update use\n",
      "\n",
      "     conda install conda=24.7.1\n",
      "\n",
      "\n"
     ]
    }
   ],
   "source": [
    "conda install pyserial"
   ]
  },
  {
   "cell_type": "code",
   "execution_count": 2,
   "id": "9ead1311",
   "metadata": {},
   "outputs": [
    {
     "name": "stdout",
     "output_type": "stream",
     "text": [
      "COM1: Communications Port (COM1) [ACPI\\PNP0501\\SIOBUAR2]\n",
      "COM3: Intel(R) Active Management Technology - SOL (COM3) [PCI\\VEN_8086&DEV_7AEB&SUBSYS_0A9F1028&REV_11\\3&11583659&3&B3]\n",
      "COM12: Arduino Mega 2560 (COM12) [USB VID:PID=2341:0042 SER=3423232363135171E021 LOCATION=1-1]\n"
     ]
    }
   ],
   "source": [
    "import serial.tools.list_ports\n",
    "ports = serial.tools.list_ports.comports()\n",
    "\n",
    "for port, desc, hwid in sorted(ports):\n",
    "        print(\"{}: {} [{}]\".format(port, desc, hwid))\n"
   ]
  },
  {
   "cell_type": "code",
   "execution_count": 4,
   "id": "54aab8b3",
   "metadata": {},
   "outputs": [],
   "source": [
    "ser = serial.Serial('COM12', 115200)  # open serial port\n",
    "\n"
   ]
  },
  {
   "cell_type": "code",
   "execution_count": 69,
   "id": "f281a965",
   "metadata": {},
   "outputs": [],
   "source": [
    "ser.close()"
   ]
  },
  {
   "cell_type": "code",
   "execution_count": 48,
   "id": "428166bb",
   "metadata": {},
   "outputs": [
    {
     "data": {
      "text/plain": [
       "4"
      ]
     },
     "execution_count": 48,
     "metadata": {},
     "output_type": "execute_result"
    }
   ],
   "source": [
    "while True:\n",
    "    ser.write()"
   ]
  },
  {
   "cell_type": "code",
   "execution_count": 6,
   "id": "64e3ebcc",
   "metadata": {},
   "outputs": [
    {
     "name": "stdout",
     "output_type": "stream",
     "text": [
      "1\n",
      "2\n",
      "3\n",
      "4\n",
      "5\n",
      "6\n",
      "7\n",
      "8\n",
      "9\n",
      "9\n",
      "8\n",
      "7\n",
      "6\n",
      "5\n",
      "4\n",
      "3\n",
      "2\n",
      "1\n"
     ]
    }
   ],
   "source": [
    "for n in range(1,10):\n",
    "    print(n)\n",
    "    ser.write(bytes(str(n), encoding='utf-8'))\n",
    "    time.sleep(0.1)\n",
    "for n in range(1,10):\n",
    "    print(10 - n)\n",
    "    ser.write(bytes(str(10 - n), encoding='utf-8'))\n",
    "    time.sleep(0.1)    "
   ]
  },
  {
   "cell_type": "code",
   "execution_count": 6,
   "id": "ed065910",
   "metadata": {},
   "outputs": [
    {
     "ename": "SerialException",
     "evalue": "WriteFile failed (PermissionError(13, 'The device does not recognize the command.', None, 22))",
     "output_type": "error",
     "traceback": [
      "\u001b[1;31m---------------------------------------------------------------------------\u001b[0m",
      "\u001b[1;31mSerialException\u001b[0m                           Traceback (most recent call last)",
      "Cell \u001b[1;32mIn[6], line 3\u001b[0m\n\u001b[0;32m      1\u001b[0m \u001b[38;5;28;01mwhile\u001b[39;00m \u001b[38;5;28;01mTrue\u001b[39;00m:\n\u001b[0;32m      2\u001b[0m     \u001b[38;5;28;01mfor\u001b[39;00m n \u001b[38;5;129;01min\u001b[39;00m \u001b[38;5;28mrange\u001b[39m(\u001b[38;5;241m1\u001b[39m,\u001b[38;5;241m9\u001b[39m):\n\u001b[1;32m----> 3\u001b[0m         ser\u001b[38;5;241m.\u001b[39mwrite(\u001b[38;5;28mbytes\u001b[39m(\u001b[38;5;28mstr\u001b[39m(n), encoding\u001b[38;5;241m=\u001b[39m\u001b[38;5;124m'\u001b[39m\u001b[38;5;124mutf-8\u001b[39m\u001b[38;5;124m'\u001b[39m))\n\u001b[0;32m      4\u001b[0m         time\u001b[38;5;241m.\u001b[39msleep(\u001b[38;5;241m0.05\u001b[39m)\n\u001b[0;32m      5\u001b[0m     \u001b[38;5;28;01mfor\u001b[39;00m n \u001b[38;5;129;01min\u001b[39;00m \u001b[38;5;28mrange\u001b[39m(\u001b[38;5;241m1\u001b[39m,\u001b[38;5;241m9\u001b[39m):\n",
      "File \u001b[1;32m~\\AppData\\Local\\anaconda3\\Lib\\site-packages\\serial\\serialwin32.py:317\u001b[0m, in \u001b[0;36mSerial.write\u001b[1;34m(self, data)\u001b[0m\n\u001b[0;32m    315\u001b[0m \u001b[38;5;28;01mif\u001b[39;00m \u001b[38;5;28mself\u001b[39m\u001b[38;5;241m.\u001b[39m_write_timeout \u001b[38;5;241m!=\u001b[39m \u001b[38;5;241m0\u001b[39m:  \u001b[38;5;66;03m# if blocking (None) or w/ write timeout (>0)\u001b[39;00m\n\u001b[0;32m    316\u001b[0m     \u001b[38;5;28;01mif\u001b[39;00m \u001b[38;5;129;01mnot\u001b[39;00m success \u001b[38;5;129;01mand\u001b[39;00m win32\u001b[38;5;241m.\u001b[39mGetLastError() \u001b[38;5;129;01mnot\u001b[39;00m \u001b[38;5;129;01min\u001b[39;00m (win32\u001b[38;5;241m.\u001b[39mERROR_SUCCESS, win32\u001b[38;5;241m.\u001b[39mERROR_IO_PENDING):\n\u001b[1;32m--> 317\u001b[0m         \u001b[38;5;28;01mraise\u001b[39;00m SerialException(\u001b[38;5;124m\"\u001b[39m\u001b[38;5;124mWriteFile failed (\u001b[39m\u001b[38;5;132;01m{!r}\u001b[39;00m\u001b[38;5;124m)\u001b[39m\u001b[38;5;124m\"\u001b[39m\u001b[38;5;241m.\u001b[39mformat(ctypes\u001b[38;5;241m.\u001b[39mWinError()))\n\u001b[0;32m    319\u001b[0m     \u001b[38;5;66;03m# Wait for the write to complete.\u001b[39;00m\n\u001b[0;32m    320\u001b[0m     \u001b[38;5;66;03m#~ win32.WaitForSingleObject(self._overlapped_write.hEvent, win32.INFINITE)\u001b[39;00m\n\u001b[0;32m    321\u001b[0m     win32\u001b[38;5;241m.\u001b[39mGetOverlappedResult(\u001b[38;5;28mself\u001b[39m\u001b[38;5;241m.\u001b[39m_port_handle, \u001b[38;5;28mself\u001b[39m\u001b[38;5;241m.\u001b[39m_overlapped_write, ctypes\u001b[38;5;241m.\u001b[39mbyref(n), \u001b[38;5;28;01mTrue\u001b[39;00m)\n",
      "\u001b[1;31mSerialException\u001b[0m: WriteFile failed (PermissionError(13, 'The device does not recognize the command.', None, 22))"
     ]
    }
   ],
   "source": [
    "while True:\n",
    "    for n in range(1,10):\n",
    "        ser.write(bytes(str(n), encoding='utf-8'))\n",
    "        time.sleep(0.05)\n",
    "    for n in range(1,10):\n",
    "        ser.write(bytes(str(10 - n), encoding='utf-8'))\n",
    "        time.sleep(0.05)    \n"
   ]
  },
  {
   "cell_type": "code",
   "execution_count": null,
   "id": "6bc4c7e8",
   "metadata": {},
   "outputs": [],
   "source": [
    "while True:\n",
    "    for n in range(1,9):\n",
    "        ser.write(bytes(str(n), encoding='utf-8'))\n",
    "        time.sleep(0.05)\n",
    "    for n in range(1,9):\n",
    "        ser.write(bytes(str(9 - n), encoding='utf-8'))\n",
    "        time.sleep(0.05)   "
   ]
  },
  {
   "cell_type": "code",
   "execution_count": 5,
   "id": "1d4054a1",
   "metadata": {},
   "outputs": [
    {
     "data": {
      "text/plain": [
       "range(1, 10)"
      ]
     },
     "execution_count": 5,
     "metadata": {},
     "output_type": "execute_result"
    }
   ],
   "source": [
    "range(1,10)\n"
   ]
  },
  {
   "cell_type": "code",
   "execution_count": null,
   "id": "df37d9e1",
   "metadata": {},
   "outputs": [],
   "source": []
  }
 ],
 "metadata": {
  "kernelspec": {
   "display_name": "Python 3 (ipykernel)",
   "language": "python",
   "name": "python3"
  },
  "language_info": {
   "codemirror_mode": {
    "name": "ipython",
    "version": 3
   },
   "file_extension": ".py",
   "mimetype": "text/x-python",
   "name": "python",
   "nbconvert_exporter": "python",
   "pygments_lexer": "ipython3",
   "version": "3.11.5"
  }
 },
 "nbformat": 4,
 "nbformat_minor": 5
}
