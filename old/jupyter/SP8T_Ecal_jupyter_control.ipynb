{
 "cells": [
  {
   "cell_type": "code",
   "execution_count": 1,
   "id": "8bcc0424",
   "metadata": {},
   "outputs": [],
   "source": [
    "import serial"
   ]
  },
  {
   "cell_type": "code",
   "execution_count": 11,
   "id": "ac3e4ceb",
   "metadata": {},
   "outputs": [
    {
     "name": "stdout",
     "output_type": "stream",
     "text": [
      "COM1: Communications Port (COM1) [ACPI\\PNP0501\\SIOBUAR2]\n",
      "COM3: Intel(R) Active Management Technology - SOL (COM3) [PCI\\VEN_8086&DEV_7AEB&SUBSYS_0A9F1028&REV_11\\3&11583659&3&B3]\n",
      "COM6: Arduino Uno (COM6) [USB VID:PID=2341:0043 SER=7503330323435151C020 LOCATION=1-1.1]\n",
      "COM12: Arduino Mega 2560 (COM12) [USB VID:PID=2341:0042 SER=3423232363135171E021 LOCATION=1-1.3]\n",
      "COM18: USB Serial Device (COM18) [USB VID:PID=3343:0043 SER=851363038373519150A0 LOCATION=1-1.4]\n"
     ]
    }
   ],
   "source": [
    "import serial.tools.list_ports\n",
    "ports = serial.tools.list_ports.comports()\n",
    "\n",
    "for port, desc, hwid in sorted(ports):\n",
    "        print(\"{}: {} [{}]\".format(port, desc, hwid))"
   ]
  },
  {
   "cell_type": "code",
   "execution_count": 13,
   "id": "ef372004",
   "metadata": {},
   "outputs": [],
   "source": [
    "SP8T_serial = serial.Serial('COM12', 9600)  # open serial port"
   ]
  },
  {
   "cell_type": "code",
   "execution_count": 12,
   "id": "9f7af472",
   "metadata": {},
   "outputs": [],
   "source": [
    "SP8T_serial.close()"
   ]
  },
  {
   "cell_type": "code",
   "execution_count": 19,
   "id": "224b0353",
   "metadata": {},
   "outputs": [
    {
     "data": {
      "text/plain": [
       "1"
      ]
     },
     "execution_count": 19,
     "metadata": {},
     "output_type": "execute_result"
    }
   ],
   "source": [
    "SP8T_serial.write(bytes('1', encoding='utf-8')) # port 1 select"
   ]
  },
  {
   "cell_type": "code",
   "execution_count": 20,
   "id": "2cb37f63",
   "metadata": {},
   "outputs": [
    {
     "data": {
      "text/plain": [
       "1"
      ]
     },
     "execution_count": 20,
     "metadata": {},
     "output_type": "execute_result"
    }
   ],
   "source": [
    "SP8T_serial.write(bytes('2', encoding='utf-8')) # port 2 select"
   ]
  },
  {
   "cell_type": "code",
   "execution_count": 21,
   "id": "948267c8",
   "metadata": {},
   "outputs": [
    {
     "data": {
      "text/plain": [
       "1"
      ]
     },
     "execution_count": 21,
     "metadata": {},
     "output_type": "execute_result"
    }
   ],
   "source": [
    "SP8T_serial.write(bytes('3', encoding='utf-8')) # port 3 select"
   ]
  },
  {
   "cell_type": "code",
   "execution_count": 23,
   "id": "5172ffad",
   "metadata": {},
   "outputs": [
    {
     "data": {
      "text/plain": [
       "1"
      ]
     },
     "execution_count": 23,
     "metadata": {},
     "output_type": "execute_result"
    }
   ],
   "source": [
    "SP8T_serial.write(bytes('4', encoding='utf-8')) # port 4 select"
   ]
  },
  {
   "cell_type": "code",
   "execution_count": 24,
   "id": "37fa1dd5",
   "metadata": {},
   "outputs": [
    {
     "data": {
      "text/plain": [
       "1"
      ]
     },
     "execution_count": 24,
     "metadata": {},
     "output_type": "execute_result"
    }
   ],
   "source": [
    "SP8T_serial.write(bytes('5', encoding='utf-8')) # port 5 select"
   ]
  },
  {
   "cell_type": "code",
   "execution_count": 25,
   "id": "5efba521",
   "metadata": {},
   "outputs": [
    {
     "data": {
      "text/plain": [
       "1"
      ]
     },
     "execution_count": 25,
     "metadata": {},
     "output_type": "execute_result"
    }
   ],
   "source": [
    "SP8T_serial.write(bytes('6', encoding='utf-8')) # port 6 select"
   ]
  },
  {
   "cell_type": "code",
   "execution_count": 26,
   "id": "104ac0d6",
   "metadata": {},
   "outputs": [
    {
     "data": {
      "text/plain": [
       "1"
      ]
     },
     "execution_count": 26,
     "metadata": {},
     "output_type": "execute_result"
    }
   ],
   "source": [
    "SP8T_serial.write(bytes('7', encoding='utf-8')) # port 7 select"
   ]
  },
  {
   "cell_type": "code",
   "execution_count": 27,
   "id": "61286cda",
   "metadata": {},
   "outputs": [
    {
     "data": {
      "text/plain": [
       "1"
      ]
     },
     "execution_count": 27,
     "metadata": {},
     "output_type": "execute_result"
    }
   ],
   "source": [
    "SP8T_serial.write(bytes('8', encoding='utf-8')) # port 8 select"
   ]
  },
  {
   "cell_type": "code",
   "execution_count": 28,
   "id": "0390e155",
   "metadata": {},
   "outputs": [
    {
     "data": {
      "text/plain": [
       "1"
      ]
     },
     "execution_count": 28,
     "metadata": {},
     "output_type": "execute_result"
    }
   ],
   "source": [
    "SP8T_serial.write(bytes('s', encoding='utf-8')) #short E-cal"
   ]
  },
  {
   "cell_type": "code",
   "execution_count": 29,
   "id": "12314f4e",
   "metadata": {},
   "outputs": [
    {
     "data": {
      "text/plain": [
       "1"
      ]
     },
     "execution_count": 29,
     "metadata": {},
     "output_type": "execute_result"
    }
   ],
   "source": [
    "SP8T_serial.write(bytes('o', encoding='utf-8')) #open E-cal"
   ]
  },
  {
   "cell_type": "code",
   "execution_count": 30,
   "id": "65f83397",
   "metadata": {},
   "outputs": [
    {
     "data": {
      "text/plain": [
       "1"
      ]
     },
     "execution_count": 30,
     "metadata": {},
     "output_type": "execute_result"
    }
   ],
   "source": [
    "SP8T_serial.write(bytes('l', encoding='utf-8')) #load E-cal"
   ]
  },
  {
   "cell_type": "code",
   "execution_count": 31,
   "id": "9bdc68ec",
   "metadata": {},
   "outputs": [
    {
     "data": {
      "text/plain": [
       "1"
      ]
     },
     "execution_count": 31,
     "metadata": {},
     "output_type": "execute_result"
    }
   ],
   "source": [
    "SP8T_serial.write(bytes('t', encoding='utf-8')) #thru: all states that are NOT E-cal"
   ]
  },
  {
   "cell_type": "code",
   "execution_count": null,
   "id": "1e01f663",
   "metadata": {},
   "outputs": [],
   "source": []
  }
 ],
 "metadata": {
  "kernelspec": {
   "display_name": "Python 3 (ipykernel)",
   "language": "python",
   "name": "python3"
  },
  "language_info": {
   "codemirror_mode": {
    "name": "ipython",
    "version": 3
   },
   "file_extension": ".py",
   "mimetype": "text/x-python",
   "name": "python",
   "nbconvert_exporter": "python",
   "pygments_lexer": "ipython3",
   "version": "3.11.5"
  }
 },
 "nbformat": 4,
 "nbformat_minor": 5
}
